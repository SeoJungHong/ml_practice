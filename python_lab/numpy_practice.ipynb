{
 "cells": [
  {
   "cell_type": "code",
   "execution_count": 78,
   "id": "0c4823e7-2ab3-4b90-bc12-4a70812e26e1",
   "metadata": {},
   "outputs": [
    {
     "data": {
      "text/plain": [
       "(array([1., 4., 5., 8.]),\n",
       " numpy.ndarray,\n",
       " numpy.float64,\n",
       " dtype('float64'),\n",
       " (4,),\n",
       " 1)"
      ]
     },
     "execution_count": 78,
     "metadata": {},
     "output_type": "execute_result"
    }
   ],
   "source": [
    "import numpy as np\n",
    "array = np.array([1,4,5,8], float)\n",
    "array, type(array), type(array[0]), array.dtype, array.shape, array.ndim"
   ]
  },
  {
   "cell_type": "code",
   "execution_count": 3,
   "id": "558a3e47-39b0-47c1-b918-f11006d992e3",
   "metadata": {},
   "outputs": [
    {
     "data": {
      "text/plain": [
       "(array([[ 3,  4,  5],\n",
       "        [ 8,  9, 10]]),\n",
       " array([7, 8]))"
      ]
     },
     "execution_count": 3,
     "metadata": {},
     "output_type": "execute_result"
    }
   ],
   "source": [
    "a = np.array([[1,2,3,4,5],[6,7,8,9,10]])\n",
    "a[:,2:], a[1, 1:3]"
   ]
  },
  {
   "cell_type": "code",
   "execution_count": 4,
   "id": "3872d8b7-c403-4e97-8c68-0f086b1c66f4",
   "metadata": {},
   "outputs": [
    {
     "data": {
      "text/plain": [
       "(4, 5)"
      ]
     },
     "execution_count": 4,
     "metadata": {},
     "output_type": "execute_result"
    }
   ],
   "source": [
    "np.arange(0, 10, 0.5).reshape(-1, 5).shape"
   ]
  },
  {
   "cell_type": "code",
   "execution_count": 6,
   "id": "e9c28c10-2d73-4328-a984-063017fd00f2",
   "metadata": {},
   "outputs": [
    {
     "data": {
      "text/plain": [
       "array([[0.        , 0.        , 0.4472136 , 0.0531494 , 0.18257419],\n",
       "       [0.4472136 , 0.2125976 , 0.36514837, 0.4472136 , 0.4783446 ],\n",
       "       [0.54772256, 0.4472136 , 0.85039041, 0.73029674, 0.4472136 ]])"
      ]
     },
     "execution_count": 6,
     "metadata": {},
     "output_type": "execute_result"
    }
   ],
   "source": [
    "np.empty((3, 5))"
   ]
  },
  {
   "cell_type": "code",
   "execution_count": 33,
   "id": "7918baa8-f475-48fd-b52a-44db3c444583",
   "metadata": {},
   "outputs": [
    {
     "data": {
      "text/plain": [
       "(array([[1., 1., 1., 1., 1., 1.],\n",
       "        [1., 1., 1., 1., 1., 1.],\n",
       "        [1., 1., 1., 1., 1., 1.],\n",
       "        [1., 1., 1., 1., 1., 1.],\n",
       "        [1., 1., 1., 1., 1., 1.]]),\n",
       " array([[1., 1., 1., 1., 1., 1.],\n",
       "        [1., 1., 1., 1., 1., 1.],\n",
       "        [1., 1., 1., 1., 1., 1.],\n",
       "        [1., 1., 1., 1., 1., 1.],\n",
       "        [1., 1., 1., 1., 1., 1.]]))"
      ]
     },
     "execution_count": 33,
     "metadata": {},
     "output_type": "execute_result"
    }
   ],
   "source": [
    "test_matrix = np.empty(30).reshape(5, 6)\n",
    "test_matrix, np.ones_like(test_matrix)"
   ]
  },
  {
   "cell_type": "code",
   "execution_count": 39,
   "id": "50fb7514-c0e4-49de-acf6-435b5e0a946d",
   "metadata": {},
   "outputs": [
    {
     "data": {
      "text/plain": [
       "(array([[1., 0., 0., 0., 0.],\n",
       "        [0., 1., 0., 0., 0.],\n",
       "        [0., 0., 1., 0., 0.],\n",
       "        [0., 0., 0., 1., 0.],\n",
       "        [0., 0., 0., 0., 1.]]),\n",
       " array([0., 0., 0.]))"
      ]
     },
     "execution_count": 39,
     "metadata": {},
     "output_type": "execute_result"
    }
   ],
   "source": [
    "i_matrix = np.identity(5)\n",
    "i_matrix, np.diag(i_matrix, k=2)"
   ]
  },
  {
   "cell_type": "code",
   "execution_count": 69,
   "id": "ad7a05af-b4e7-4e22-b1f7-31dc33f7edcf",
   "metadata": {},
   "outputs": [
    {
     "data": {
      "text/plain": [
       "(array([1, 2, 3]), array([1, 2, 3]))"
      ]
     },
     "execution_count": 69,
     "metadata": {},
     "output_type": "execute_result"
    }
   ],
   "source": [
    "a = np.array([1, 2, 3])\n",
    "a, a.T"
   ]
  },
  {
   "cell_type": "code",
   "execution_count": 70,
   "id": "bc4ced8c-abe2-4074-9890-f828a5e9c1d2",
   "metadata": {},
   "outputs": [
    {
     "data": {
      "text/plain": [
       "(array([[1, 2, 3]]),\n",
       " array([[1],\n",
       "        [2],\n",
       "        [3]]))"
      ]
     },
     "execution_count": 70,
     "metadata": {},
     "output_type": "execute_result"
    }
   ],
   "source": [
    "b = np.array([[1, 2, 3]])\n",
    "b, b.T"
   ]
  },
  {
   "cell_type": "code",
   "execution_count": 71,
   "id": "9dec4cdb-83eb-4ad4-b1ba-66e88b70eb76",
   "metadata": {},
   "outputs": [],
   "source": [
    "def scalar_vector_product(scalar, vector):\n",
    "    result = []\n",
    "    for value in vector:\n",
    "        result.append(scalar * value)\n",
    "    return result\n",
    "\n",
    "iteration_max = 100000000\n",
    "\n",
    "vector = list(range(iteration_max))\n",
    "scalar = 2"
   ]
  },
  {
   "cell_type": "code",
   "execution_count": 74,
   "id": "6d51b4b6-ec73-4774-9bf0-8c81f9a15706",
   "metadata": {},
   "outputs": [
    {
     "name": "stdout",
     "output_type": "stream",
     "text": [
      "3.3 s ± 95.7 ms per loop (mean ± std. dev. of 7 runs, 1 loop each)\n"
     ]
    }
   ],
   "source": [
    "%timeit scalar_vector_product(scalar, vector)"
   ]
  },
  {
   "cell_type": "code",
   "execution_count": 76,
   "id": "0d61adeb-9fbc-4a86-b929-58706f0514e8",
   "metadata": {},
   "outputs": [
    {
     "name": "stdout",
     "output_type": "stream",
     "text": [
      "3.3 s ± 22.8 ms per loop (mean ± std. dev. of 7 runs, 1 loop each)\n"
     ]
    }
   ],
   "source": [
    "# List Comprehension\n",
    "%timeit [scalar * value for value in range(iteration_max)]"
   ]
  },
  {
   "cell_type": "code",
   "execution_count": 77,
   "id": "6508a890-c2e8-48f6-b44e-ce2472f2fe52",
   "metadata": {},
   "outputs": [
    {
     "name": "stdout",
     "output_type": "stream",
     "text": [
      "126 ms ± 804 µs per loop (mean ± std. dev. of 7 runs, 10 loops each)\n"
     ]
    }
   ],
   "source": [
    "%timeit np.arange(iteration_max) * scalar"
   ]
  },
  {
   "cell_type": "code",
   "execution_count": 83,
   "id": "77698179-fab8-4fae-aff8-eab9fa7d7b96",
   "metadata": {},
   "outputs": [
    {
     "data": {
      "text/plain": [
       "(True, False, True, False)"
      ]
     },
     "execution_count": 83,
     "metadata": {},
     "output_type": "execute_result"
    }
   ],
   "source": [
    "a = np.arange(10)\n",
    "np.all(a < 10), np.all(a > 5), np.any(a > 3), np.any(a > 10)"
   ]
  },
  {
   "cell_type": "code",
   "execution_count": 85,
   "id": "8d08afa1-662f-449b-915f-3b9fad66e338",
   "metadata": {},
   "outputs": [
    {
     "data": {
      "text/plain": [
       "array([0, 0, 0, 0, 1, 1, 1, 1, 1, 1])"
      ]
     },
     "execution_count": 85,
     "metadata": {},
     "output_type": "execute_result"
    }
   ],
   "source": [
    "# where(condition, True, False)\n",
    "np.where(a > 3, 1, 0)"
   ]
  },
  {
   "cell_type": "code",
   "execution_count": 87,
   "id": "946f6283-5cb1-426f-ad9f-f914017402f5",
   "metadata": {},
   "outputs": [
    {
     "data": {
      "text/plain": [
       "array([6, 7, 8, 9])"
      ]
     },
     "execution_count": 87,
     "metadata": {},
     "output_type": "execute_result"
    }
   ],
   "source": [
    "# 조건에 맞는 index 반환\n",
    "np.where(a > 5)[0]"
   ]
  },
  {
   "cell_type": "code",
   "execution_count": 89,
   "id": "c076a2f4-0f89-439f-8c98-631392581505",
   "metadata": {},
   "outputs": [],
   "source": [
    "np.save(\"npy_test_object\", arr=a)"
   ]
  },
  {
   "cell_type": "code",
   "execution_count": 90,
   "id": "eed7f28b-dad9-477d-9509-eea7002628bd",
   "metadata": {},
   "outputs": [
    {
     "data": {
      "text/plain": [
       "array([0, 1, 2, 3, 4, 5, 6, 7, 8, 9])"
      ]
     },
     "execution_count": 90,
     "metadata": {},
     "output_type": "execute_result"
    }
   ],
   "source": [
    "loaded_a = np.load(\"npy_test_object.npy\")\n",
    "loaded_a"
   ]
  }
 ],
 "metadata": {
  "kernelspec": {
   "display_name": "Python 3 (ipykernel)",
   "language": "python",
   "name": "python3"
  },
  "language_info": {
   "codemirror_mode": {
    "name": "ipython",
    "version": 3
   },
   "file_extension": ".py",
   "mimetype": "text/x-python",
   "name": "python",
   "nbconvert_exporter": "python",
   "pygments_lexer": "ipython3",
   "version": "3.11.5"
  }
 },
 "nbformat": 4,
 "nbformat_minor": 5
}
