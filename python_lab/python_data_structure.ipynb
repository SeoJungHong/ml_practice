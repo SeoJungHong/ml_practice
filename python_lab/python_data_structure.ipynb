{
 "cells": [
  {
   "cell_type": "code",
   "execution_count": 2,
   "id": "ebe06eea-ae67-4ba8-9a9a-ead6e1a32e09",
   "metadata": {},
   "outputs": [],
   "source": [
    "text = \"\"\"A press release is the quickest and easiest way to get free publicity. If well written, a press release can result in multiple published articles about your firm and its products. And that can mean new prospects contacting you asking you to sell to them. ....\"\"\""
   ]
  },
  {
   "cell_type": "code",
   "execution_count": 3,
   "id": "e4e85427-8ad5-46f9-8f27-7807e41c19d3",
   "metadata": {},
   "outputs": [],
   "source": [
    "from collections import defaultdict\n",
    "memo = defaultdict(lambda : 0)"
   ]
  },
  {
   "cell_type": "code",
   "execution_count": 4,
   "id": "a5331625-de6e-4d7c-a818-66d065f13b52",
   "metadata": {},
   "outputs": [
    {
     "name": "stdout",
     "output_type": "stream",
     "text": [
      "[('and', 3), ('to', 3), ('a', 2), ('press', 2), ('release', 2), ('can', 2), ('you', 2), ('is', 1), ('the', 1), ('quickest', 1), ('easiest', 1), ('way', 1), ('get', 1), ('free', 1), ('publicity.', 1), ('if', 1), ('well', 1), ('written,', 1), ('result', 1), ('in', 1), ('multiple', 1), ('published', 1), ('articles', 1), ('about', 1), ('your', 1), ('firm', 1), ('its', 1), ('products.', 1), ('that', 1), ('mean', 1), ('new', 1), ('prospects', 1), ('contacting', 1), ('asking', 1), ('sell', 1), ('them.', 1), ('....', 1)]\n"
     ]
    }
   ],
   "source": [
    "for word in text.lower().split():\n",
    "    memo[word] += 1\n",
    "final = sorted(memo.items(), key = lambda i: i[1], reverse = True)\n",
    "print(final)"
   ]
  },
  {
   "cell_type": "code",
   "execution_count": 17,
   "id": "f70aaf57-a24f-471b-9151-b71af663b380",
   "metadata": {},
   "outputs": [],
   "source": [
    "def star(function):\n",
    "    def inner(*args, **kwargs):\n",
    "        print('*' * 30)\n",
    "        function(*args, **kwargs)\n",
    "        print('*' * 30)\n",
    "    return inner\n",
    "\n",
    "def percent(function):\n",
    "    def inner(*args, **kwargs):\n",
    "        print('%' * 30)\n",
    "        function(*args, **kwargs)\n",
    "        print('%' * 30)\n",
    "    return inner"
   ]
  },
  {
   "cell_type": "code",
   "execution_count": 26,
   "id": "037ff845-396a-4f58-85da-a54a1bd07e71",
   "metadata": {},
   "outputs": [],
   "source": [
    "@percent\n",
    "@star\n",
    "def printer(msg):\n",
    "    print(msg)"
   ]
  },
  {
   "cell_type": "code",
   "execution_count": 27,
   "id": "88852c53-467e-46dd-9451-e8a2e26b515c",
   "metadata": {},
   "outputs": [
    {
     "name": "stdout",
     "output_type": "stream",
     "text": [
      "%%%%%%%%%%%%%%%%%%%%%%%%%%%%%%\n",
      "******************************\n",
      "hello\n",
      "******************************\n",
      "%%%%%%%%%%%%%%%%%%%%%%%%%%%%%%\n"
     ]
    }
   ],
   "source": [
    "printer(\"hello\")"
   ]
  },
  {
   "cell_type": "code",
   "execution_count": 28,
   "id": "65387165-bd1f-4ae8-8ac5-2724fabb1850",
   "metadata": {},
   "outputs": [
    {
     "name": "stdout",
     "output_type": "stream",
     "text": [
      "91\n"
     ]
    }
   ],
   "source": [
    "import random\n",
    "print (random.randint(0, 100))"
   ]
  },
  {
   "cell_type": "code",
   "execution_count": 31,
   "id": "958c3acc-3a86-48da-9871-c55cfd318bd7",
   "metadata": {},
   "outputs": [],
   "source": [
    "def is_palindrome(word):\n",
    "    for i in range(len(word)):\n",
    "        if word[i] != word[len(word) - 1 - i]:\n",
    "            return False\n",
    "    return True"
   ]
  },
  {
   "cell_type": "code",
   "execution_count": 33,
   "id": "c7f62a4a-e154-406d-8272-670a61b54ffc",
   "metadata": {},
   "outputs": [
    {
     "data": {
      "text/plain": [
       "(True, False)"
      ]
     },
     "execution_count": 33,
     "metadata": {},
     "output_type": "execute_result"
    }
   ],
   "source": [
    "is_palindrome(\"abba\"), is_palindrome(\"asbdfdf\")"
   ]
  }
 ],
 "metadata": {
  "kernelspec": {
   "display_name": "Python 3 (ipykernel)",
   "language": "python",
   "name": "python3"
  },
  "language_info": {
   "codemirror_mode": {
    "name": "ipython",
    "version": 3
   },
   "file_extension": ".py",
   "mimetype": "text/x-python",
   "name": "python",
   "nbconvert_exporter": "python",
   "pygments_lexer": "ipython3",
   "version": "3.11.5"
  }
 },
 "nbformat": 4,
 "nbformat_minor": 5
}
